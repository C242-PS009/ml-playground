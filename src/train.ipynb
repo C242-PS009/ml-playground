{
 "cells": [
  {
   "cell_type": "code",
   "execution_count": 1,
   "metadata": {},
   "outputs": [
    {
     "name": "stderr",
     "output_type": "stream",
     "text": [
      "[nltk_data] Downloading package wordnet to\n",
      "[nltk_data]     C:\\Users\\LENOVO\\AppData\\Roaming\\nltk_data...\n",
      "[nltk_data]   Package wordnet is already up-to-date!\n"
     ]
    }
   ],
   "source": [
    "import matplotlib.pyplot as plt\n",
    "import numpy as np\n",
    "import pandas as pd\n",
    "import tensorflow as tf\n",
    "\n",
    "import keras\n",
    "import keras_nlp\n",
    "\n",
    "from datetime import datetime\n",
    "import utils\n"
   ]
  },
  {
   "cell_type": "code",
   "execution_count": 2,
   "metadata": {},
   "outputs": [],
   "source": [
    "keras.utils.set_random_seed(69)"
   ]
  },
  {
   "cell_type": "code",
   "execution_count": 14,
   "metadata": {},
   "outputs": [
    {
     "data": {
      "text/html": [
       "<div>\n",
       "<style scoped>\n",
       "    .dataframe tbody tr th:only-of-type {\n",
       "        vertical-align: middle;\n",
       "    }\n",
       "\n",
       "    .dataframe tbody tr th {\n",
       "        vertical-align: top;\n",
       "    }\n",
       "\n",
       "    .dataframe thead th {\n",
       "        text-align: right;\n",
       "    }\n",
       "</style>\n",
       "<table border=\"1\" class=\"dataframe\">\n",
       "  <thead>\n",
       "    <tr style=\"text-align: right;\">\n",
       "      <th></th>\n",
       "      <th>Task</th>\n",
       "      <th>Category</th>\n",
       "    </tr>\n",
       "  </thead>\n",
       "  <tbody>\n",
       "    <tr>\n",
       "      <th>0</th>\n",
       "      <td>finish quarterly report</td>\n",
       "      <td>urgent important</td>\n",
       "    </tr>\n",
       "    <tr>\n",
       "      <th>1</th>\n",
       "      <td>schedule meeting with client x</td>\n",
       "      <td>urgent important</td>\n",
       "    </tr>\n",
       "    <tr>\n",
       "      <th>2</th>\n",
       "      <td>respond to urgent email</td>\n",
       "      <td>urgent not-important</td>\n",
       "    </tr>\n",
       "    <tr>\n",
       "      <th>3</th>\n",
       "      <td>clean desk</td>\n",
       "      <td>not-urgent not-important</td>\n",
       "    </tr>\n",
       "    <tr>\n",
       "      <th>4</th>\n",
       "      <td>learn new programming language</td>\n",
       "      <td>not-urgent important</td>\n",
       "    </tr>\n",
       "  </tbody>\n",
       "</table>\n",
       "</div>"
      ],
      "text/plain": [
       "                             Task                  Category\n",
       "0         finish quarterly report          urgent important\n",
       "1  schedule meeting with client x          urgent important\n",
       "2         respond to urgent email      urgent not-important\n",
       "3                      clean desk  not-urgent not-important\n",
       "4  learn new programming language      not-urgent important"
      ]
     },
     "execution_count": 14,
     "metadata": {},
     "output_type": "execute_result"
    }
   ],
   "source": [
    "df = pd.read_csv(\"../data/clean/2024-11-27_00-47-15.csv\")\n",
    "df.head()"
   ]
  },
  {
   "cell_type": "markdown",
   "metadata": {},
   "source": [
    "# Create Dataset"
   ]
  },
  {
   "cell_type": "code",
   "execution_count": 15,
   "metadata": {},
   "outputs": [
    {
     "name": "stdout",
     "output_type": "stream",
     "text": [
      "['finish quarterly report' 'schedule meeting with client x'\n",
      " 'respond to urgent email' 'clean desk' 'learn new programming language'\n",
      " 'pay monthly bill' 'exercise regularly' 'read book on leadership'\n",
      " 'attend networking event' 'plan vacation']\n",
      "\n",
      "['urgent important' 'urgent important' 'urgent not-important'\n",
      " 'not-urgent not-important' 'not-urgent important' 'urgent not-important'\n",
      " 'not-urgent important' 'not-urgent important' 'not-urgent important'\n",
      " 'not-urgent important']\n"
     ]
    }
   ],
   "source": [
    "sentences = df[\"Task\"].to_numpy()\n",
    "labels = df[\"Category\"].to_numpy()\n",
    "\n",
    "dataset = tf.data.Dataset.from_tensor_slices((sentences, labels))\n",
    "dataset = dataset.shuffle(len(dataset))\n",
    "\n",
    "print(sentences[:10])\n",
    "print()\n",
    "print(labels[:10])"
   ]
  },
  {
   "cell_type": "markdown",
   "metadata": {},
   "source": [
    "# Hyperparameters"
   ]
  },
  {
   "cell_type": "code",
   "execution_count": 16,
   "metadata": {},
   "outputs": [],
   "source": [
    "EMBEDDING_DIM = 100\n",
    "MAX_LENGTH = 64\n",
    "TRAINING_SPLIT = 0.9\n",
    "NUM_BATCHES = 128"
   ]
  },
  {
   "cell_type": "markdown",
   "metadata": {},
   "source": [
    "# Split Dataset"
   ]
  },
  {
   "cell_type": "code",
   "execution_count": 17,
   "metadata": {},
   "outputs": [
    {
     "name": "stdout",
     "output_type": "stream",
     "text": [
      "There are 10 batches for a total of 1280 elements for training.\n",
      "There are 2 batches for a total of 256 elements for validation.\n"
     ]
    }
   ],
   "source": [
    "train_size = int(len(dataset) * TRAINING_SPLIT)\n",
    "\n",
    "train_ds = dataset.take(train_size)\n",
    "val_ds = dataset.skip(train_size)\n",
    "\n",
    "train_ds = train_ds.batch(NUM_BATCHES)\n",
    "val_ds = val_ds.batch(NUM_BATCHES)\n",
    "\n",
    "print(f\"There are {len(train_ds)} batches for a total of {NUM_BATCHES*len(train_ds)} elements for training.\")\n",
    "print(f\"There are {len(val_ds)} batches for a total of {NUM_BATCHES*len(val_ds)} elements for validation.\")"
   ]
  },
  {
   "cell_type": "markdown",
   "metadata": {},
   "source": [
    "# Vectorize Dataset"
   ]
  },
  {
   "cell_type": "code",
   "execution_count": 18,
   "metadata": {},
   "outputs": [],
   "source": [
    "train_sentences = train_ds.map(lambda x, _: x)  \n",
    "train_labels = train_ds.map(lambda _, y: y)"
   ]
  },
  {
   "cell_type": "code",
   "execution_count": 19,
   "metadata": {},
   "outputs": [
    {
     "name": "stdout",
     "output_type": "stream",
     "text": [
      "Vocabulary size = 265\n"
     ]
    }
   ],
   "source": [
    "vocab = keras_nlp.tokenizers.compute_word_piece_vocabulary(\n",
    "    train_sentences,\n",
    "    lowercase=True,\n",
    "    vocabulary_size=8000,\n",
    "    reserved_tokens=[\"[PAD]\", \"[UNK]\"],\n",
    ")\n",
    "\n",
    "tokenizer = keras_nlp.tokenizers.WordPieceTokenizer(\n",
    "    vocabulary=vocab,\n",
    "    lowercase=True,\n",
    "    sequence_length=MAX_LENGTH\n",
    ")\n",
    "\n",
    "vocab_size = tokenizer.vocabulary_size()\n",
    "print(f\"Vocabulary size = {vocab_size}\")"
   ]
  },
  {
   "cell_type": "code",
   "execution_count": 20,
   "metadata": {},
   "outputs": [
    {
     "name": "stdout",
     "output_type": "stream",
     "text": [
      "Label size = 4\n"
     ]
    }
   ],
   "source": [
    "label_lookup = keras.layers.StringLookup(num_oov_indices=0)\n",
    "label_lookup.adapt(train_labels)\n",
    "\n",
    "print(f\"Label size = {label_lookup.vocabulary_size()}\")"
   ]
  },
  {
   "cell_type": "code",
   "execution_count": 21,
   "metadata": {},
   "outputs": [
    {
     "name": "stdout",
     "output_type": "stream",
     "text": [
      "Tokenized string is [ 43  32  68 217  42 149   0   0   0   0   0   0   0   0   0   0   0   0\n",
      "   0   0   0   0   0   0   0   0   0   0   0   0   0   0   0   0   0   0\n",
      "   0   0   0   0   0   0   0   0   0   0   0   0   0   0   0   0   0   0\n",
      "   0   0   0   0   0   0   0   0   0   0]\n",
      "The original string: b'review training material [PAD] [PAD] [PAD] [PAD] [PAD] [PAD] [PAD] [PAD] [PAD] [PAD] [PAD] [PAD] [PAD] [PAD] [PAD] [PAD] [PAD] [PAD] [PAD] [PAD] [PAD] [PAD] [PAD] [PAD] [PAD] [PAD] [PAD] [PAD] [PAD] [PAD] [PAD] [PAD] [PAD] [PAD] [PAD] [PAD] [PAD] [PAD] [PAD] [PAD] [PAD] [PAD] [PAD] [PAD] [PAD] [PAD] [PAD] [PAD] [PAD] [PAD] [PAD] [PAD] [PAD] [PAD] [PAD] [PAD] [PAD] [PAD]'\n"
     ]
    }
   ],
   "source": [
    "for x, y in val_ds.take(1):\n",
    "    sample_string = x[1]\n",
    "\n",
    "tokenized_string = tokenizer.tokenize(sample_string)\n",
    "print(f\"Tokenized string is {tokenized_string}\")\n",
    "\n",
    "original_string = tokenizer.detokenize(tokenized_string)\n",
    "print(f\"The original string: {original_string}\")"
   ]
  },
  {
   "cell_type": "code",
   "execution_count": 22,
   "metadata": {},
   "outputs": [
    {
     "name": "stdout",
     "output_type": "stream",
     "text": [
      "Features: [[240  18  85 ...   0   0   0]\n",
      " [ 15 174 100 ...   0   0   0]\n",
      " [ 46  78  31 ...   0   0   0]\n",
      " ...\n",
      " [ 27  97  53 ...   0   0   0]\n",
      " [ 28  89 239 ...   0   0   0]\n",
      " [ 40  39  17 ...   0   0   0]]\n",
      "Labels: [1 0 1 0 0 2 1 0 0 0 3 1 1 0 0 1 0 0 2 1 1 3 0 1 3 1 3 2 0 2 2 1 2 0 0 0 2\n",
      " 3 1 3 0 1 1 0 2 0 0 1 2 0 1 2 0 0 3 0 0 2 1 0 1 2 1 0 0 0 1 1 0 0 0 1 0 0\n",
      " 0 0 1 1 1 1 2 0 0 1 1 0 0 1 0 3 1 0 1 2 3 0 2 1 0 2 0 0 3 1 2 2 1 2 1 1 0\n",
      " 1 1 3 1 0 1 2 3 2 1 0 0 3 0 0 3 1]\n"
     ]
    }
   ],
   "source": [
    "train_ds_vec = train_ds.map(lambda x, y: (tokenizer(x), label_lookup(y)))\n",
    "val_ds_vec = val_ds.map(lambda x, y: (tokenizer(x), label_lookup(y)))\n",
    "\n",
    "for features, labels in train_ds_vec.take(1):\n",
    "    print(\"Features:\", features.numpy())\n",
    "    print(\"Labels:\", labels.numpy())"
   ]
  },
  {
   "cell_type": "markdown",
   "metadata": {},
   "source": [
    "# Train"
   ]
  },
  {
   "cell_type": "code",
   "execution_count": 23,
   "metadata": {},
   "outputs": [
    {
     "name": "stdout",
     "output_type": "stream",
     "text": [
      "Model: \"sequential_1\"\n",
      "_________________________________________________________________\n",
      " Layer (type)                Output Shape              Param #   \n",
      "=================================================================\n",
      " embedding_1 (Embedding)     (None, 64, 100)           26500     \n",
      "                                                                 \n",
      " bidirectional_1 (Bidirectio  (None, 64)               34048     \n",
      " nal)                                                            \n",
      "                                                                 \n",
      " dropout_1 (Dropout)         (None, 64)                0         \n",
      "                                                                 \n",
      " dense_2 (Dense)             (None, 6)                 390       \n",
      "                                                                 \n",
      " dense_3 (Dense)             (None, 4)                 28        \n",
      "                                                                 \n",
      "=================================================================\n",
      "Total params: 60,966\n",
      "Trainable params: 60,966\n",
      "Non-trainable params: 0\n",
      "_________________________________________________________________\n"
     ]
    }
   ],
   "source": [
    "model = keras.Sequential([\n",
    "    keras.Input(shape=(MAX_LENGTH,)),\n",
    "    keras.layers.Embedding(vocab_size, EMBEDDING_DIM),\n",
    "    keras.layers.Bidirectional(keras.layers.LSTM(32)),\n",
    "    keras.layers.Dropout(0.5),\n",
    "    keras.layers.Dense(6, \"relu\"),\n",
    "    keras.layers.Dense(4, \"softmax\"),\n",
    "])\n",
    "\n",
    "model.compile(\n",
    "    loss=keras.losses.SparseCategoricalCrossentropy(),\n",
    "    optimizer=keras.optimizers.Adam(),\n",
    "    metrics=[\"accuracy\"],\n",
    ")\n",
    "\n",
    "model.summary()"
   ]
  },
  {
   "cell_type": "code",
   "execution_count": 24,
   "metadata": {},
   "outputs": [
    {
     "name": "stdout",
     "output_type": "stream",
     "text": [
      "Epoch 1/100\n",
      "10/10 [==============================] - 7s 134ms/step - loss: 1.3588 - accuracy: 0.2994 - val_loss: 1.3136 - val_accuracy: 0.3143\n",
      "Epoch 2/100\n",
      "10/10 [==============================] - 0s 51ms/step - loss: 1.3184 - accuracy: 0.2986 - val_loss: 1.2663 - val_accuracy: 0.3214\n",
      "Epoch 3/100\n",
      "10/10 [==============================] - 1s 53ms/step - loss: 1.2980 - accuracy: 0.3336 - val_loss: 1.2990 - val_accuracy: 0.3500\n",
      "Epoch 4/100\n",
      "10/10 [==============================] - 0s 51ms/step - loss: 1.2831 - accuracy: 0.4257 - val_loss: 1.2884 - val_accuracy: 0.5286\n",
      "Epoch 5/100\n",
      "10/10 [==============================] - 0s 50ms/step - loss: 1.2522 - accuracy: 0.4535 - val_loss: 1.2257 - val_accuracy: 0.4714\n",
      "Epoch 6/100\n",
      "10/10 [==============================] - 1s 53ms/step - loss: 1.1960 - accuracy: 0.4797 - val_loss: 1.1503 - val_accuracy: 0.5357\n",
      "Epoch 7/100\n",
      "10/10 [==============================] - 0s 49ms/step - loss: 1.1059 - accuracy: 0.5306 - val_loss: 1.0790 - val_accuracy: 0.5571\n",
      "Epoch 8/100\n",
      "10/10 [==============================] - 0s 49ms/step - loss: 1.0321 - accuracy: 0.5481 - val_loss: 1.0291 - val_accuracy: 0.5500\n",
      "Epoch 9/100\n",
      "10/10 [==============================] - 0s 51ms/step - loss: 0.9524 - accuracy: 0.5846 - val_loss: 0.7781 - val_accuracy: 0.6500\n",
      "Epoch 10/100\n",
      "10/10 [==============================] - 0s 52ms/step - loss: 0.9115 - accuracy: 0.5917 - val_loss: 0.8661 - val_accuracy: 0.5857\n",
      "Epoch 11/100\n",
      "10/10 [==============================] - 0s 51ms/step - loss: 0.8650 - accuracy: 0.6076 - val_loss: 0.8385 - val_accuracy: 0.6071\n",
      "Epoch 12/100\n",
      "10/10 [==============================] - 0s 50ms/step - loss: 0.8370 - accuracy: 0.6195 - val_loss: 0.8091 - val_accuracy: 0.6214\n",
      "Epoch 13/100\n",
      "10/10 [==============================] - 1s 55ms/step - loss: 0.8139 - accuracy: 0.6307 - val_loss: 0.8000 - val_accuracy: 0.7143\n",
      "Epoch 14/100\n",
      "10/10 [==============================] - 1s 54ms/step - loss: 0.7689 - accuracy: 0.6823 - val_loss: 0.7992 - val_accuracy: 0.6714\n",
      "Epoch 15/100\n",
      "10/10 [==============================] - 1s 57ms/step - loss: 0.7365 - accuracy: 0.7212 - val_loss: 0.6844 - val_accuracy: 0.6929\n",
      "Epoch 16/100\n",
      "10/10 [==============================] - 0s 51ms/step - loss: 0.7140 - accuracy: 0.7212 - val_loss: 0.6413 - val_accuracy: 0.7786\n",
      "Epoch 17/100\n",
      "10/10 [==============================] - 0s 51ms/step - loss: 0.6894 - accuracy: 0.7538 - val_loss: 0.7068 - val_accuracy: 0.6929\n",
      "Epoch 18/100\n",
      "10/10 [==============================] - 1s 54ms/step - loss: 0.6792 - accuracy: 0.7395 - val_loss: 0.5668 - val_accuracy: 0.8071\n",
      "Epoch 19/100\n",
      "10/10 [==============================] - 0s 52ms/step - loss: 0.6473 - accuracy: 0.7705 - val_loss: 0.6303 - val_accuracy: 0.7357\n",
      "Epoch 20/100\n",
      "10/10 [==============================] - 0s 50ms/step - loss: 0.6462 - accuracy: 0.7538 - val_loss: 0.5989 - val_accuracy: 0.8286\n",
      "Epoch 21/100\n",
      "10/10 [==============================] - 1s 54ms/step - loss: 0.6065 - accuracy: 0.7697 - val_loss: 0.5309 - val_accuracy: 0.8286\n",
      "Epoch 22/100\n",
      "10/10 [==============================] - 1s 57ms/step - loss: 0.5969 - accuracy: 0.7847 - val_loss: 0.4904 - val_accuracy: 0.8214\n",
      "Epoch 23/100\n",
      "10/10 [==============================] - 1s 56ms/step - loss: 0.6002 - accuracy: 0.7816 - val_loss: 0.4679 - val_accuracy: 0.8429\n",
      "Epoch 24/100\n",
      "10/10 [==============================] - 1s 57ms/step - loss: 0.5626 - accuracy: 0.7895 - val_loss: 0.5319 - val_accuracy: 0.8143\n",
      "Epoch 25/100\n",
      "10/10 [==============================] - 1s 55ms/step - loss: 0.5555 - accuracy: 0.7935 - val_loss: 0.4926 - val_accuracy: 0.8071\n",
      "Epoch 26/100\n",
      "10/10 [==============================] - 0s 52ms/step - loss: 0.5600 - accuracy: 0.7935 - val_loss: 0.4907 - val_accuracy: 0.8071\n",
      "Epoch 27/100\n",
      "10/10 [==============================] - 0s 52ms/step - loss: 0.5275 - accuracy: 0.8165 - val_loss: 0.4051 - val_accuracy: 0.8786\n",
      "Epoch 28/100\n",
      "10/10 [==============================] - 0s 50ms/step - loss: 0.5164 - accuracy: 0.8197 - val_loss: 0.3399 - val_accuracy: 0.8786\n",
      "Epoch 29/100\n",
      "10/10 [==============================] - 1s 63ms/step - loss: 0.5125 - accuracy: 0.8078 - val_loss: 0.4537 - val_accuracy: 0.8500\n",
      "Epoch 30/100\n",
      "10/10 [==============================] - 1s 58ms/step - loss: 0.4923 - accuracy: 0.8197 - val_loss: 0.4773 - val_accuracy: 0.8357\n",
      "Epoch 31/100\n",
      "10/10 [==============================] - 1s 69ms/step - loss: 0.4826 - accuracy: 0.8221 - val_loss: 0.4609 - val_accuracy: 0.8286\n",
      "Epoch 32/100\n",
      "10/10 [==============================] - 1s 60ms/step - loss: 0.4966 - accuracy: 0.8181 - val_loss: 0.3973 - val_accuracy: 0.8500\n",
      "Epoch 33/100\n",
      "10/10 [==============================] - 1s 62ms/step - loss: 0.4792 - accuracy: 0.8229 - val_loss: 0.4039 - val_accuracy: 0.8500\n",
      "Epoch 34/100\n",
      "10/10 [==============================] - 1s 56ms/step - loss: 0.4576 - accuracy: 0.8268 - val_loss: 0.3837 - val_accuracy: 0.8571\n",
      "Epoch 35/100\n",
      "10/10 [==============================] - 1s 57ms/step - loss: 0.4716 - accuracy: 0.8356 - val_loss: 0.3712 - val_accuracy: 0.8857\n",
      "Epoch 36/100\n",
      "10/10 [==============================] - 1s 59ms/step - loss: 0.4448 - accuracy: 0.8507 - val_loss: 0.3173 - val_accuracy: 0.8929\n",
      "Epoch 37/100\n",
      "10/10 [==============================] - 1s 53ms/step - loss: 0.4386 - accuracy: 0.8562 - val_loss: 0.4325 - val_accuracy: 0.8357\n",
      "Epoch 38/100\n",
      "10/10 [==============================] - 1s 57ms/step - loss: 0.4418 - accuracy: 0.8435 - val_loss: 0.3842 - val_accuracy: 0.8429\n",
      "Epoch 39/100\n",
      "10/10 [==============================] - 1s 62ms/step - loss: 0.4106 - accuracy: 0.8729 - val_loss: 0.3046 - val_accuracy: 0.9357\n",
      "Epoch 40/100\n",
      "10/10 [==============================] - 1s 56ms/step - loss: 0.4255 - accuracy: 0.8491 - val_loss: 0.3403 - val_accuracy: 0.8929\n",
      "Epoch 41/100\n",
      "10/10 [==============================] - 0s 52ms/step - loss: 0.4043 - accuracy: 0.8602 - val_loss: 0.3791 - val_accuracy: 0.8929\n",
      "Epoch 42/100\n",
      "10/10 [==============================] - 1s 57ms/step - loss: 0.4466 - accuracy: 0.8396 - val_loss: 0.3712 - val_accuracy: 0.8786\n",
      "Epoch 43/100\n",
      "10/10 [==============================] - 1s 53ms/step - loss: 0.3993 - accuracy: 0.8570 - val_loss: 0.3380 - val_accuracy: 0.8643\n",
      "Epoch 44/100\n",
      "10/10 [==============================] - 0s 52ms/step - loss: 0.3807 - accuracy: 0.8681 - val_loss: 0.2818 - val_accuracy: 0.9286\n",
      "Epoch 45/100\n",
      "10/10 [==============================] - 1s 55ms/step - loss: 0.3858 - accuracy: 0.8697 - val_loss: 0.3128 - val_accuracy: 0.8857\n",
      "Epoch 46/100\n",
      "10/10 [==============================] - 0s 53ms/step - loss: 0.3592 - accuracy: 0.8824 - val_loss: 0.2693 - val_accuracy: 0.9357\n",
      "Epoch 47/100\n",
      "10/10 [==============================] - 0s 53ms/step - loss: 0.3663 - accuracy: 0.8793 - val_loss: 0.3221 - val_accuracy: 0.9071\n",
      "Epoch 48/100\n",
      "10/10 [==============================] - 0s 50ms/step - loss: 0.3479 - accuracy: 0.8936 - val_loss: 0.2997 - val_accuracy: 0.9000\n",
      "Epoch 49/100\n",
      "10/10 [==============================] - 0s 53ms/step - loss: 0.3581 - accuracy: 0.8856 - val_loss: 0.2623 - val_accuracy: 0.9071\n",
      "Epoch 50/100\n",
      "10/10 [==============================] - 0s 52ms/step - loss: 0.3486 - accuracy: 0.8864 - val_loss: 0.3477 - val_accuracy: 0.8857\n",
      "Epoch 51/100\n",
      "10/10 [==============================] - 0s 49ms/step - loss: 0.3278 - accuracy: 0.8864 - val_loss: 0.1793 - val_accuracy: 0.9429\n",
      "Epoch 52/100\n",
      "10/10 [==============================] - 0s 50ms/step - loss: 0.3426 - accuracy: 0.8840 - val_loss: 0.3166 - val_accuracy: 0.8929\n",
      "Epoch 53/100\n",
      "10/10 [==============================] - 0s 51ms/step - loss: 0.3748 - accuracy: 0.8721 - val_loss: 0.2589 - val_accuracy: 0.9286\n",
      "Epoch 54/100\n",
      "10/10 [==============================] - 1s 56ms/step - loss: 0.3481 - accuracy: 0.8832 - val_loss: 0.3297 - val_accuracy: 0.8929\n",
      "Epoch 55/100\n",
      "10/10 [==============================] - 0s 49ms/step - loss: 0.3368 - accuracy: 0.8880 - val_loss: 0.1887 - val_accuracy: 0.9571\n",
      "Epoch 56/100\n",
      "10/10 [==============================] - 0s 51ms/step - loss: 0.3285 - accuracy: 0.8920 - val_loss: 0.2637 - val_accuracy: 0.9286\n",
      "Epoch 57/100\n",
      "10/10 [==============================] - 0s 50ms/step - loss: 0.3153 - accuracy: 0.8975 - val_loss: 0.2850 - val_accuracy: 0.9214\n",
      "Epoch 58/100\n",
      "10/10 [==============================] - 0s 49ms/step - loss: 0.3111 - accuracy: 0.8975 - val_loss: 0.2685 - val_accuracy: 0.9071\n",
      "Epoch 59/100\n",
      "10/10 [==============================] - 0s 52ms/step - loss: 0.2983 - accuracy: 0.9031 - val_loss: 0.2093 - val_accuracy: 0.9357\n",
      "Epoch 60/100\n",
      "10/10 [==============================] - 1s 56ms/step - loss: 0.3174 - accuracy: 0.8959 - val_loss: 0.1338 - val_accuracy: 0.9714\n",
      "Epoch 61/100\n",
      "10/10 [==============================] - 0s 51ms/step - loss: 0.2882 - accuracy: 0.9055 - val_loss: 0.2249 - val_accuracy: 0.9214\n",
      "Epoch 62/100\n",
      "10/10 [==============================] - 0s 51ms/step - loss: 0.3190 - accuracy: 0.9023 - val_loss: 0.3090 - val_accuracy: 0.8714\n",
      "Epoch 63/100\n",
      "10/10 [==============================] - 0s 51ms/step - loss: 0.3017 - accuracy: 0.8991 - val_loss: 0.3010 - val_accuracy: 0.9000\n",
      "Epoch 64/100\n",
      "10/10 [==============================] - 0s 51ms/step - loss: 0.2759 - accuracy: 0.9174 - val_loss: 0.1881 - val_accuracy: 0.9571\n",
      "Epoch 65/100\n",
      "10/10 [==============================] - 0s 51ms/step - loss: 0.2700 - accuracy: 0.9158 - val_loss: 0.1684 - val_accuracy: 0.9571\n",
      "Epoch 66/100\n",
      "10/10 [==============================] - 0s 52ms/step - loss: 0.2573 - accuracy: 0.9166 - val_loss: 0.2818 - val_accuracy: 0.9143\n",
      "Epoch 67/100\n",
      "10/10 [==============================] - 0s 52ms/step - loss: 0.2777 - accuracy: 0.9063 - val_loss: 0.3023 - val_accuracy: 0.9286\n",
      "Epoch 68/100\n",
      "10/10 [==============================] - 0s 51ms/step - loss: 0.2770 - accuracy: 0.9126 - val_loss: 0.2846 - val_accuracy: 0.9214\n",
      "Epoch 69/100\n",
      "10/10 [==============================] - 0s 51ms/step - loss: 0.2681 - accuracy: 0.9150 - val_loss: 0.1366 - val_accuracy: 0.9714\n",
      "Epoch 70/100\n",
      "10/10 [==============================] - 0s 52ms/step - loss: 0.2772 - accuracy: 0.9102 - val_loss: 0.1977 - val_accuracy: 0.9286\n",
      "Epoch 71/100\n",
      "10/10 [==============================] - 0s 50ms/step - loss: 0.3203 - accuracy: 0.8952 - val_loss: 0.2157 - val_accuracy: 0.9429\n",
      "Epoch 72/100\n",
      "10/10 [==============================] - 1s 57ms/step - loss: 0.3374 - accuracy: 0.8952 - val_loss: 0.2178 - val_accuracy: 0.9214\n",
      "Epoch 73/100\n",
      "10/10 [==============================] - 1s 64ms/step - loss: 0.3166 - accuracy: 0.8936 - val_loss: 0.1925 - val_accuracy: 0.9357\n",
      "Epoch 74/100\n",
      "10/10 [==============================] - 1s 55ms/step - loss: 0.2982 - accuracy: 0.8975 - val_loss: 0.2439 - val_accuracy: 0.9429\n",
      "Epoch 75/100\n",
      "10/10 [==============================] - 1s 55ms/step - loss: 0.2679 - accuracy: 0.9158 - val_loss: 0.2074 - val_accuracy: 0.9571\n",
      "Epoch 76/100\n",
      "10/10 [==============================] - 0s 51ms/step - loss: 0.2560 - accuracy: 0.9198 - val_loss: 0.2898 - val_accuracy: 0.9000\n",
      "Epoch 77/100\n",
      "10/10 [==============================] - 0s 49ms/step - loss: 0.2508 - accuracy: 0.9245 - val_loss: 0.1670 - val_accuracy: 0.9500\n",
      "Epoch 78/100\n",
      "10/10 [==============================] - 1s 54ms/step - loss: 0.2680 - accuracy: 0.9134 - val_loss: 0.1811 - val_accuracy: 0.9357\n",
      "Epoch 79/100\n",
      "10/10 [==============================] - 0s 51ms/step - loss: 0.2304 - accuracy: 0.9349 - val_loss: 0.2041 - val_accuracy: 0.9571\n",
      "Epoch 80/100\n",
      "10/10 [==============================] - 0s 47ms/step - loss: 0.2557 - accuracy: 0.9230 - val_loss: 0.1942 - val_accuracy: 0.9571\n",
      "Epoch 81/100\n",
      "10/10 [==============================] - 0s 53ms/step - loss: 0.2408 - accuracy: 0.9198 - val_loss: 0.1913 - val_accuracy: 0.9429\n",
      "Epoch 82/100\n",
      "10/10 [==============================] - 0s 52ms/step - loss: 0.2457 - accuracy: 0.9190 - val_loss: 0.2000 - val_accuracy: 0.9357\n",
      "Epoch 83/100\n",
      "10/10 [==============================] - 1s 58ms/step - loss: 0.2359 - accuracy: 0.9245 - val_loss: 0.2151 - val_accuracy: 0.9500\n",
      "Epoch 84/100\n",
      "10/10 [==============================] - 0s 52ms/step - loss: 0.2369 - accuracy: 0.9293 - val_loss: 0.1159 - val_accuracy: 0.9786\n",
      "Epoch 85/100\n",
      "10/10 [==============================] - 0s 50ms/step - loss: 0.2138 - accuracy: 0.9349 - val_loss: 0.1547 - val_accuracy: 0.9571\n",
      "Epoch 86/100\n",
      "10/10 [==============================] - 0s 53ms/step - loss: 0.2500 - accuracy: 0.9230 - val_loss: 0.1757 - val_accuracy: 0.9429\n",
      "Epoch 87/100\n",
      "10/10 [==============================] - 0s 51ms/step - loss: 0.2948 - accuracy: 0.8991 - val_loss: 0.2010 - val_accuracy: 0.9429\n",
      "Epoch 88/100\n",
      "10/10 [==============================] - 0s 51ms/step - loss: 0.2456 - accuracy: 0.9245 - val_loss: 0.2151 - val_accuracy: 0.9214\n",
      "Epoch 89/100\n",
      "10/10 [==============================] - 0s 49ms/step - loss: 0.2221 - accuracy: 0.9357 - val_loss: 0.2097 - val_accuracy: 0.9429\n",
      "Epoch 90/100\n",
      "10/10 [==============================] - 0s 50ms/step - loss: 0.2286 - accuracy: 0.9277 - val_loss: 0.1976 - val_accuracy: 0.9500\n",
      "Epoch 91/100\n",
      "10/10 [==============================] - 0s 52ms/step - loss: 0.2215 - accuracy: 0.9317 - val_loss: 0.1485 - val_accuracy: 0.9571\n",
      "Epoch 92/100\n",
      "10/10 [==============================] - 1s 60ms/step - loss: 0.2105 - accuracy: 0.9388 - val_loss: 0.1474 - val_accuracy: 0.9714\n",
      "Epoch 93/100\n",
      "10/10 [==============================] - 1s 60ms/step - loss: 0.2128 - accuracy: 0.9349 - val_loss: 0.1110 - val_accuracy: 0.9714\n",
      "Epoch 94/100\n",
      "10/10 [==============================] - 1s 56ms/step - loss: 0.1977 - accuracy: 0.9428 - val_loss: 0.1753 - val_accuracy: 0.9571\n",
      "Epoch 95/100\n",
      "10/10 [==============================] - 1s 63ms/step - loss: 0.1901 - accuracy: 0.9428 - val_loss: 0.1360 - val_accuracy: 0.9714\n",
      "Epoch 96/100\n",
      "10/10 [==============================] - 1s 60ms/step - loss: 0.2025 - accuracy: 0.9373 - val_loss: 0.1142 - val_accuracy: 0.9643\n",
      "Epoch 97/100\n",
      "10/10 [==============================] - 1s 57ms/step - loss: 0.1938 - accuracy: 0.9404 - val_loss: 0.1349 - val_accuracy: 0.9643\n",
      "Epoch 98/100\n",
      "10/10 [==============================] - 1s 54ms/step - loss: 0.2062 - accuracy: 0.9365 - val_loss: 0.1869 - val_accuracy: 0.9500\n",
      "Epoch 99/100\n",
      "10/10 [==============================] - 1s 54ms/step - loss: 0.1931 - accuracy: 0.9444 - val_loss: 0.1078 - val_accuracy: 0.9643\n",
      "Epoch 100/100\n",
      "10/10 [==============================] - 1s 58ms/step - loss: 0.1898 - accuracy: 0.9420 - val_loss: 0.0996 - val_accuracy: 0.9786\n"
     ]
    }
   ],
   "source": [
    "history = model.fit(train_ds_vec, epochs=100, validation_data=val_ds_vec)"
   ]
  },
  {
   "cell_type": "code",
   "execution_count": 25,
   "metadata": {},
   "outputs": [
    {
     "data": {
      "image/png": "[encoded data removed]",
      "text/plain": [
       "<Figure size 640x480 with 1 Axes>"
      ]
     },
     "metadata": {},
     "output_type": "display_data"
    },
    {
     "data": {
      "image/png": "[encoded data removed]",
      "text/plain": [
       "<Figure size 640x480 with 1 Axes>"
      ]
     },
     "metadata": {},
     "output_type": "display_data"
    }
   ],
   "source": [
    "def plot_graphs(history, metric):\n",
    "    plt.plot(history.history[metric])\n",
    "    plt.plot(history.history[f'val_{metric}'])\n",
    "    plt.xlabel(\"Epochs\")\n",
    "    plt.ylabel(metric)\n",
    "    plt.legend([metric, f'val_{metric}'])\n",
    "    plt.show()\n",
    "    \n",
    "plot_graphs(history, \"accuracy\")\n",
    "plot_graphs(history, \"loss\")"
   ]
  },
  {
   "cell_type": "markdown",
   "metadata": {},
   "source": [
    "# Test"
   ]
  },
  {
   "cell_type": "code",
   "execution_count": 30,
   "metadata": {},
   "outputs": [
    {
     "name": "stdout",
     "output_type": "stream",
     "text": [
      "Input: Consume all the white bread before it expires tomorrow\n",
      "Lemmatized input: consume all the white bread before it expires tomorrow\n",
      "Vectorized input: b'consume all the white bread before it expires tomorrow [PAD] [PAD] [PAD] [PAD] [PAD] [PAD] [PAD] [PAD] [PAD] [PAD] [PAD] [PAD] [PAD] [PAD] [PAD] [PAD] [PAD] [PAD] [PAD] [PAD] [PAD] [PAD] [PAD] [PAD] [PAD] [PAD] [PAD]'\n",
      "\t[15, 94, 72, 73, 262, 102, 13, 153, 119, 35, 96, 123, 48, 14, 68, 48, 216, 14, 48, 145, 67, 48, 21, 53, 17, 231, 97, 259, 68, 48, 73, 57, 58, 67, 68, 94, 130, 0, 0, 0, 0, 0, 0, 0, 0, 0, 0, 0, 0, 0, 0, 0, 0, 0, 0, 0, 0, 0, 0, 0, 0, 0, 0, 0]\n",
      "\n",
      "1/1 [==============================] - 0s 29ms/step\n",
      "Prediction vector: [2.5347951e-03 9.9746513e-01 6.9030634e-08 3.3258058e-08]\n",
      "\tnot-urgent important: 0.25348%\n",
      "\tnot-urgent not-important: 99.74651%\n",
      "\turgent important: 0.00001%\n",
      "\turgent not-important: 0.00000%\n",
      "Prediction: not-urgent not-important\n"
     ]
    }
   ],
   "source": [
    "task = \"Consume all the white bread before it expires tomorrow\"\n",
    "print(f\"Input: {task}\")\n",
    "\n",
    "task = utils.lemmatize(task)\n",
    "print(f\"Lemmatized input: {task}\")\n",
    "\n",
    "task_vec = tokenizer(task)\n",
    "print(f\"Vectorized input: {tokenizer.detokenize(task_vec)}\")\n",
    "print(f\"\\t{[x for x in task_vec.numpy()]}\\n\")\n",
    "task_vec = np.reshape(task_vec, (1, len(task_vec)))\n",
    "\n",
    "prediction = model.predict(task_vec)[0]\n",
    "print(f\"Prediction vector: {prediction}\")\n",
    "\n",
    "label_vocab = label_lookup.get_vocabulary()\n",
    "for label, probability in zip(label_vocab, prediction):\n",
    "    percentage = probability * 100\n",
    "    print(f\"\\t{label}: {percentage:.5f}%\")\n",
    "\n",
    "best = label_vocab[np.argmax(prediction)]\n",
    "print(f\"Prediction: {best}\")"
   ]
  },
  {
   "cell_type": "markdown",
   "metadata": {},
   "source": [
    "# Save"
   ]
  },
  {
   "cell_type": "code",
   "execution_count": 16,
   "metadata": {},
   "outputs": [],
   "source": [
    "packed_model = keras.Sequential([\n",
    "    tokenizer,\n",
    "    label_lookup,\n",
    "    model,\n",
    "])\n",
    "\n",
    "packed_model.built = True\n",
    "now = datetime.now().strftime(r\"%Y-%m-%d_%H-%M-%S\")\n",
    "packed_model.save(f\"../model/{now}.keras\")"
   ]
  }
 ],
 "metadata": {
  "kernelspec": {
   "display_name": "Python 3",
   "language": "python",
   "name": "python3"
  },
  "language_info": {
   "codemirror_mode": {
    "name": "ipython",
    "version": 3
   },
   "file_extension": ".py",
   "mimetype": "text/x-python",
   "name": "python",
   "nbconvert_exporter": "python",
   "pygments_lexer": "ipython3",
   "version": "3.10.11"
  }
 },
 "nbformat": 4,
 "nbformat_minor": 2
}
