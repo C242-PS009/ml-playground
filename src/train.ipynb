{
 "cells": [
  {
   "cell_type": "code",
   "execution_count": 48,
   "metadata": {},
   "outputs": [],
   "source": [
    "import matplotlib.pyplot as plt\n",
    "import numpy as np\n",
    "import pandas as pd\n",
    "import tensorflow as tf\n",
    "\n",
    "import keras\n",
    "import keras_nlp\n",
    "\n",
    "from tensorflow.keras.optimizers import Adam\n",
    "from tensorflow.keras.callbacks import LearningRateScheduler\n",
    "\n",
    "from datetime import datetime\n",
    "import utils\n"
   ]
  },
  {
   "cell_type": "code",
   "execution_count": 25,
   "metadata": {},
   "outputs": [],
   "source": [
    "keras.utils.set_random_seed(69)"
   ]
  },
  {
   "cell_type": "code",
   "execution_count": 26,
   "metadata": {},
   "outputs": [
    {
     "data": {
      "text/html": [
       "<div>\n",
       "<style scoped>\n",
       "    .dataframe tbody tr th:only-of-type {\n",
       "        vertical-align: middle;\n",
       "    }\n",
       "\n",
       "    .dataframe tbody tr th {\n",
       "        vertical-align: top;\n",
       "    }\n",
       "\n",
       "    .dataframe thead th {\n",
       "        text-align: right;\n",
       "    }\n",
       "</style>\n",
       "<table border=\"1\" class=\"dataframe\">\n",
       "  <thead>\n",
       "    <tr style=\"text-align: right;\">\n",
       "      <th></th>\n",
       "      <th>Task</th>\n",
       "      <th>Category</th>\n",
       "    </tr>\n",
       "  </thead>\n",
       "  <tbody>\n",
       "    <tr>\n",
       "      <th>0</th>\n",
       "      <td>delegate task to team</td>\n",
       "      <td>urgent not-important</td>\n",
       "    </tr>\n",
       "    <tr>\n",
       "      <th>1</th>\n",
       "      <td>organize the file for the company-wide audit</td>\n",
       "      <td>urgent important</td>\n",
       "    </tr>\n",
       "    <tr>\n",
       "      <th>2</th>\n",
       "      <td>plan time for extracurricular activity</td>\n",
       "      <td>not-urgent important</td>\n",
       "    </tr>\n",
       "    <tr>\n",
       "      <th>3</th>\n",
       "      <td>update website content</td>\n",
       "      <td>not-urgent important</td>\n",
       "    </tr>\n",
       "    <tr>\n",
       "      <th>4</th>\n",
       "      <td>buy supply for upcoming school project</td>\n",
       "      <td>not-urgent important</td>\n",
       "    </tr>\n",
       "  </tbody>\n",
       "</table>\n",
       "</div>"
      ],
      "text/plain": [
       "                                           Task              Category\n",
       "0                         delegate task to team  urgent not-important\n",
       "1  organize the file for the company-wide audit      urgent important\n",
       "2        plan time for extracurricular activity  not-urgent important\n",
       "3                        update website content  not-urgent important\n",
       "4        buy supply for upcoming school project  not-urgent important"
      ]
     },
     "execution_count": 26,
     "metadata": {},
     "output_type": "execute_result"
    }
   ],
   "source": [
    "df = pd.read_csv(\"../data/clean/dataset_final.csv\")\n",
    "df.head()"
   ]
  },
  {
   "cell_type": "markdown",
   "metadata": {},
   "source": [
    "# Create Dataset"
   ]
  },
  {
   "cell_type": "code",
   "execution_count": 27,
   "metadata": {},
   "outputs": [
    {
     "name": "stdout",
     "output_type": "stream",
     "text": [
      "['delegate task to team' 'organize the file for the company-wide audit'\n",
      " 'plan time for extracurricular activity' 'update website content'\n",
      " 'buy supply for upcoming school project' 'be patient with yourself'\n",
      " 'update student profile' 'organize course syllabus'\n",
      " 'practice public speaking' 'confirm lunch location and time']\n",
      "\n",
      "['urgent not-important' 'urgent important' 'not-urgent important'\n",
      " 'not-urgent important' 'not-urgent important' 'not-urgent important'\n",
      " 'urgent not-important' 'not-urgent not-important' 'not-urgent important'\n",
      " 'urgent not-important']\n"
     ]
    }
   ],
   "source": [
    "sentences = df[\"Task\"].to_numpy()\n",
    "labels = df[\"Category\"].to_numpy()\n",
    "\n",
    "dataset = tf.data.Dataset.from_tensor_slices((sentences, labels))\n",
    "dataset = dataset.shuffle(len(dataset))\n",
    "\n",
    "print(sentences[:10])\n",
    "print()\n",
    "print(labels[:10])"
   ]
  },
  {
   "cell_type": "markdown",
   "metadata": {},
   "source": [
    "# Hyperparameters"
   ]
  },
  {
   "cell_type": "code",
   "execution_count": 28,
   "metadata": {},
   "outputs": [],
   "source": [
    "EMBEDDING_DIM = 64\n",
    "MAX_LENGTH = 74\n",
    "TRAINING_SPLIT = 0.9\n",
    "NUM_BATCHES = 128"
   ]
  },
  {
   "cell_type": "markdown",
   "metadata": {},
   "source": [
    "# Split Dataset"
   ]
  },
  {
   "cell_type": "code",
   "execution_count": 29,
   "metadata": {},
   "outputs": [
    {
     "name": "stdout",
     "output_type": "stream",
     "text": [
      "There are 22 batches for a total of 2816 elements for training.\n",
      "There are 3 batches for a total of 384 elements for validation.\n"
     ]
    }
   ],
   "source": [
    "train_size = int(len(dataset) * TRAINING_SPLIT)\n",
    "\n",
    "train_ds = dataset.take(train_size)\n",
    "val_ds = dataset.skip(train_size)\n",
    "\n",
    "train_ds = train_ds.batch(NUM_BATCHES)\n",
    "val_ds = val_ds.batch(NUM_BATCHES)\n",
    "\n",
    "print(f\"There are {len(train_ds)} batches for a total of {NUM_BATCHES*len(train_ds)} elements for training.\")\n",
    "print(f\"There are {len(val_ds)} batches for a total of {NUM_BATCHES*len(val_ds)} elements for validation.\")"
   ]
  },
  {
   "cell_type": "markdown",
   "metadata": {},
   "source": [
    "# Vectorize Dataset"
   ]
  },
  {
   "cell_type": "code",
   "execution_count": 30,
   "metadata": {},
   "outputs": [],
   "source": [
    "train_sentences = train_ds.map(lambda x, _: x)  \n",
    "train_labels = train_ds.map(lambda _, y: y)"
   ]
  },
  {
   "cell_type": "code",
   "execution_count": 31,
   "metadata": {},
   "outputs": [
    {
     "name": "stdout",
     "output_type": "stream",
     "text": [
      "Vocabulary size = 526\n"
     ]
    }
   ],
   "source": [
    "vocab = keras_nlp.tokenizers.compute_word_piece_vocabulary(\n",
    "    train_sentences,\n",
    "    lowercase=True,\n",
    "    vocabulary_size=8000,\n",
    "    reserved_tokens=[\"[PAD]\", \"[UNK]\"],\n",
    ")\n",
    "\n",
    "tokenizer = keras_nlp.tokenizers.WordPieceTokenizer(\n",
    "    vocabulary=vocab,\n",
    "    lowercase=True,\n",
    "    sequence_length=MAX_LENGTH\n",
    ")\n",
    "\n",
    "vocab_size = tokenizer.vocabulary_size()\n",
    "print(f\"Vocabulary size = {vocab_size}\")"
   ]
  },
  {
   "cell_type": "code",
   "execution_count": 32,
   "metadata": {},
   "outputs": [
    {
     "name": "stdout",
     "output_type": "stream",
     "text": [
      "Label size = 4\n"
     ]
    }
   ],
   "source": [
    "label_lookup = keras.layers.StringLookup(num_oov_indices=0)\n",
    "label_lookup.adapt(train_labels)\n",
    "\n",
    "print(f\"Label size = {label_lookup.vocabulary_size()}\")"
   ]
  },
  {
   "cell_type": "code",
   "execution_count": 33,
   "metadata": {},
   "outputs": [
    {
     "name": "stdout",
     "output_type": "stream",
     "text": [
      "Tokenized string is [ 69 312 103   0   0   0   0   0   0   0   0   0   0   0   0   0   0   0\n",
      "   0   0   0   0   0   0   0   0   0   0   0   0   0   0   0   0   0   0\n",
      "   0   0   0   0   0   0   0   0   0   0   0   0   0   0   0   0   0   0\n",
      "   0   0   0   0   0   0   0   0   0   0   0   0   0   0   0   0   0   0\n",
      "   0   0]\n",
      "The original string: b'create revision note [PAD] [PAD] [PAD] [PAD] [PAD] [PAD] [PAD] [PAD] [PAD] [PAD] [PAD] [PAD] [PAD] [PAD] [PAD] [PAD] [PAD] [PAD] [PAD] [PAD] [PAD] [PAD] [PAD] [PAD] [PAD] [PAD] [PAD] [PAD] [PAD] [PAD] [PAD] [PAD] [PAD] [PAD] [PAD] [PAD] [PAD] [PAD] [PAD] [PAD] [PAD] [PAD] [PAD] [PAD] [PAD] [PAD] [PAD] [PAD] [PAD] [PAD] [PAD] [PAD] [PAD] [PAD] [PAD] [PAD] [PAD] [PAD] [PAD] [PAD] [PAD] [PAD] [PAD] [PAD] [PAD] [PAD] [PAD] [PAD] [PAD] [PAD] [PAD]'\n"
     ]
    }
   ],
   "source": [
    "for x, y in val_ds.take(1):\n",
    "    sample_string = x[1]\n",
    "\n",
    "tokenized_string = tokenizer.tokenize(sample_string)\n",
    "print(f\"Tokenized string is {tokenized_string}\")\n",
    "\n",
    "original_string = tokenizer.detokenize(tokenized_string)\n",
    "print(f\"The original string: {original_string}\")"
   ]
  },
  {
   "cell_type": "code",
   "execution_count": 34,
   "metadata": {},
   "outputs": [
    {
     "name": "stdout",
     "output_type": "stream",
     "text": [
      "Features: [[ 50 336  45 ...   0   0   0]\n",
      " [177  45  35 ...   0   0   0]\n",
      " [138 265 310 ...   0   0   0]\n",
      " ...\n",
      " [ 63  44  65 ...   0   0   0]\n",
      " [ 63  44 332 ...   0   0   0]\n",
      " [130 143 440 ...   0   0   0]]\n",
      "Labels: [3 3 2 0 3 0 3 3 2 0 1 3 3 3 3 3 2 1 2 3 1 3 0 2 0 2 0 3 3 2 1 0 2 2 2 1 1\n",
      " 2 2 3 0 0 0 2 2 1 3 2 1 2 2 1 1 1 3 1 1 3 1 0 2 1 1 2 3 3 0 1 1 0 0 2 1 0\n",
      " 2 3 3 3 1 1 3 1 1 0 3 3 2 2 3 2 2 3 3 2 2 1 0 1 2 3 3 2 2 1 0 3 1 3 1 1 2\n",
      " 0 0 1 1 1 3 3 1 2 1 0 0 2 0 1 1 0]\n"
     ]
    }
   ],
   "source": [
    "train_ds_vec = train_ds.map(lambda x, y: (tokenizer(x), label_lookup(y)))\n",
    "val_ds_vec = val_ds.map(lambda x, y: (tokenizer(x), label_lookup(y)))\n",
    "\n",
    "for features, labels in train_ds_vec.take(1):\n",
    "    print(\"Features:\", features.numpy())\n",
    "    print(\"Labels:\", labels.numpy())"
   ]
  },
  {
   "cell_type": "markdown",
   "metadata": {},
   "source": [
    "# Train"
   ]
  },
  {
   "cell_type": "code",
   "execution_count": 49,
   "metadata": {},
   "outputs": [
    {
     "name": "stdout",
     "output_type": "stream",
     "text": [
      "Model: \"sequential_9\"\n",
      "_________________________________________________________________\n",
      " Layer (type)                Output Shape              Param #   \n",
      "=================================================================\n",
      " embedding_7 (Embedding)     (None, 74, 64)            33664     \n",
      "                                                                 \n",
      " bidirectional_11 (Bidirecti  (None, 256)              197632    \n",
      " onal)                                                           \n",
      "                                                                 \n",
      " dropout_7 (Dropout)         (None, 256)               0         \n",
      "                                                                 \n",
      " dense_14 (Dense)            (None, 32)                8224      \n",
      "                                                                 \n",
      " dense_15 (Dense)            (None, 4)                 132       \n",
      "                                                                 \n",
      "=================================================================\n",
      "Total params: 239,652\n",
      "Trainable params: 239,652\n",
      "Non-trainable params: 0\n",
      "_________________________________________________________________\n"
     ]
    }
   ],
   "source": [
    "model = keras.Sequential([\n",
    "    keras.Input(shape=(MAX_LENGTH,)),\n",
    "    keras.layers.Embedding(vocab_size, EMBEDDING_DIM),\n",
    "    keras.layers.Bidirectional(keras.layers.LSTM(128)),\n",
    "    keras.layers.Dropout(0.3),\n",
    "    keras.layers.Dense(32, \"relu\"),\n",
    "    keras.layers.Dense(4, \"softmax\"),\n",
    "])\n",
    "\n",
    "model.compile(\n",
    "    loss=keras.losses.SparseCategoricalCrossentropy(),\n",
    "    optimizer=keras.optimizers.Adam(learning_rate=0.001),\n",
    "    metrics=[\"accuracy\"],\n",
    ")\n",
    "\n",
    "model.summary()"
   ]
  },
  {
   "cell_type": "code",
   "execution_count": 50,
   "metadata": {},
   "outputs": [
    {
     "name": "stdout",
     "output_type": "stream",
     "text": [
      "Epoch 1/100\n",
      "22/22 [==============================] - 4s 75ms/step - loss: 1.3752 - accuracy: 0.3434 - val_loss: 1.3374 - val_accuracy: 0.5083\n",
      "Epoch 2/100\n",
      "22/22 [==============================] - 1s 45ms/step - loss: 1.2525 - accuracy: 0.4518 - val_loss: 1.0850 - val_accuracy: 0.5710\n",
      "Epoch 3/100\n",
      "22/22 [==============================] - 1s 44ms/step - loss: 0.9778 - accuracy: 0.6011 - val_loss: 0.8184 - val_accuracy: 0.6898\n",
      "Epoch 4/100\n",
      "22/22 [==============================] - 1s 44ms/step - loss: 0.7713 - accuracy: 0.6938 - val_loss: 0.6860 - val_accuracy: 0.7327\n",
      "Epoch 5/100\n",
      "22/22 [==============================] - 1s 48ms/step - loss: 0.6511 - accuracy: 0.7456 - val_loss: 0.5259 - val_accuracy: 0.8020\n",
      "Epoch 6/100\n",
      "22/22 [==============================] - 1s 44ms/step - loss: 0.5783 - accuracy: 0.7768 - val_loss: 0.5417 - val_accuracy: 0.7756\n",
      "Epoch 7/100\n",
      "22/22 [==============================] - 1s 43ms/step - loss: 0.5357 - accuracy: 0.7949 - val_loss: 0.5176 - val_accuracy: 0.8020\n",
      "Epoch 8/100\n",
      "22/22 [==============================] - 1s 46ms/step - loss: 0.4996 - accuracy: 0.8070 - val_loss: 0.4951 - val_accuracy: 0.8185\n",
      "Epoch 9/100\n",
      "22/22 [==============================] - 1s 44ms/step - loss: 0.4741 - accuracy: 0.8213 - val_loss: 0.4664 - val_accuracy: 0.8449\n",
      "Epoch 10/100\n",
      "22/22 [==============================] - 1s 44ms/step - loss: 0.4540 - accuracy: 0.8235 - val_loss: 0.4374 - val_accuracy: 0.8251\n",
      "Epoch 11/100\n",
      "22/22 [==============================] - 1s 46ms/step - loss: 0.4467 - accuracy: 0.8309 - val_loss: 0.4125 - val_accuracy: 0.8416\n",
      "Epoch 12/100\n",
      "22/22 [==============================] - 1s 47ms/step - loss: 0.4193 - accuracy: 0.8415 - val_loss: 0.4235 - val_accuracy: 0.8416\n",
      "Epoch 13/100\n",
      "22/22 [==============================] - 1s 50ms/step - loss: 0.4204 - accuracy: 0.8441 - val_loss: 0.3887 - val_accuracy: 0.8812\n",
      "Epoch 14/100\n",
      "22/22 [==============================] - 1s 52ms/step - loss: 0.4073 - accuracy: 0.8460 - val_loss: 0.3623 - val_accuracy: 0.8713\n",
      "Epoch 15/100\n",
      "22/22 [==============================] - 1s 48ms/step - loss: 0.3805 - accuracy: 0.8544 - val_loss: 0.3158 - val_accuracy: 0.8812\n",
      "Epoch 16/100\n",
      "22/22 [==============================] - 1s 65ms/step - loss: 0.3715 - accuracy: 0.8658 - val_loss: 0.3622 - val_accuracy: 0.8746\n",
      "Epoch 17/100\n",
      "22/22 [==============================] - 1s 53ms/step - loss: 0.3601 - accuracy: 0.8699 - val_loss: 0.3498 - val_accuracy: 0.8878\n",
      "Epoch 18/100\n",
      "22/22 [==============================] - 1s 48ms/step - loss: 0.3465 - accuracy: 0.8684 - val_loss: 0.3014 - val_accuracy: 0.8911\n",
      "Epoch 19/100\n",
      "22/22 [==============================] - 1s 47ms/step - loss: 0.3361 - accuracy: 0.8739 - val_loss: 0.3269 - val_accuracy: 0.8812\n",
      "Epoch 20/100\n",
      "22/22 [==============================] - 1s 50ms/step - loss: 0.3280 - accuracy: 0.8717 - val_loss: 0.2923 - val_accuracy: 0.8944\n",
      "Epoch 21/100\n",
      "22/22 [==============================] - 1s 52ms/step - loss: 0.3075 - accuracy: 0.8860 - val_loss: 0.2470 - val_accuracy: 0.9076\n",
      "Epoch 22/100\n",
      "22/22 [==============================] - 1s 53ms/step - loss: 0.3013 - accuracy: 0.8919 - val_loss: 0.2685 - val_accuracy: 0.9010\n",
      "Epoch 23/100\n",
      "22/22 [==============================] - 1s 53ms/step - loss: 0.3048 - accuracy: 0.8908 - val_loss: 0.3167 - val_accuracy: 0.8878\n",
      "Epoch 24/100\n",
      "22/22 [==============================] - 1s 52ms/step - loss: 0.2812 - accuracy: 0.8941 - val_loss: 0.2527 - val_accuracy: 0.9241\n",
      "Epoch 25/100\n",
      "22/22 [==============================] - 1s 51ms/step - loss: 0.2696 - accuracy: 0.8996 - val_loss: 0.1902 - val_accuracy: 0.9472\n",
      "Epoch 26/100\n",
      "22/22 [==============================] - 1s 51ms/step - loss: 0.2713 - accuracy: 0.8996 - val_loss: 0.2187 - val_accuracy: 0.9241\n",
      "Epoch 27/100\n",
      "22/22 [==============================] - 1s 53ms/step - loss: 0.2490 - accuracy: 0.9121 - val_loss: 0.2434 - val_accuracy: 0.9109\n",
      "Epoch 28/100\n",
      "22/22 [==============================] - 1s 46ms/step - loss: 0.2407 - accuracy: 0.9147 - val_loss: 0.2223 - val_accuracy: 0.9241\n",
      "Epoch 29/100\n",
      "22/22 [==============================] - 1s 44ms/step - loss: 0.2339 - accuracy: 0.9129 - val_loss: 0.1561 - val_accuracy: 0.9472\n",
      "Epoch 30/100\n",
      "22/22 [==============================] - 1s 46ms/step - loss: 0.2282 - accuracy: 0.9202 - val_loss: 0.2095 - val_accuracy: 0.9406\n",
      "Epoch 31/100\n",
      "22/22 [==============================] - 1s 45ms/step - loss: 0.2084 - accuracy: 0.9265 - val_loss: 0.2193 - val_accuracy: 0.9109\n",
      "Epoch 32/100\n",
      "22/22 [==============================] - 1s 46ms/step - loss: 0.2199 - accuracy: 0.9195 - val_loss: 0.1616 - val_accuracy: 0.9637\n",
      "Epoch 33/100\n",
      "22/22 [==============================] - 1s 46ms/step - loss: 0.2030 - accuracy: 0.9298 - val_loss: 0.1655 - val_accuracy: 0.9406\n",
      "Epoch 34/100\n",
      "22/22 [==============================] - 1s 46ms/step - loss: 0.1977 - accuracy: 0.9254 - val_loss: 0.1542 - val_accuracy: 0.9439\n",
      "Epoch 35/100\n",
      "22/22 [==============================] - 1s 48ms/step - loss: 0.1920 - accuracy: 0.9294 - val_loss: 0.1613 - val_accuracy: 0.9340\n",
      "Epoch 36/100\n",
      "22/22 [==============================] - 1s 46ms/step - loss: 0.1804 - accuracy: 0.9364 - val_loss: 0.1760 - val_accuracy: 0.9439\n",
      "Epoch 37/100\n",
      "22/22 [==============================] - 1s 54ms/step - loss: 0.2041 - accuracy: 0.9261 - val_loss: 0.1921 - val_accuracy: 0.9406\n",
      "Epoch 38/100\n",
      "22/22 [==============================] - 1s 46ms/step - loss: 0.1690 - accuracy: 0.9346 - val_loss: 0.1599 - val_accuracy: 0.9505\n",
      "Epoch 39/100\n",
      "22/22 [==============================] - 1s 52ms/step - loss: 0.1686 - accuracy: 0.9342 - val_loss: 0.1389 - val_accuracy: 0.9571\n",
      "Epoch 40/100\n",
      "22/22 [==============================] - 1s 48ms/step - loss: 0.1656 - accuracy: 0.9371 - val_loss: 0.0911 - val_accuracy: 0.9835\n",
      "Epoch 41/100\n",
      "22/22 [==============================] - 1s 47ms/step - loss: 0.1600 - accuracy: 0.9441 - val_loss: 0.1344 - val_accuracy: 0.9472\n",
      "Epoch 42/100\n",
      "22/22 [==============================] - 1s 44ms/step - loss: 0.1659 - accuracy: 0.9426 - val_loss: 0.1791 - val_accuracy: 0.9274\n",
      "Epoch 43/100\n",
      "22/22 [==============================] - 1s 44ms/step - loss: 0.1872 - accuracy: 0.9309 - val_loss: 0.1279 - val_accuracy: 0.9604\n",
      "Epoch 44/100\n",
      "22/22 [==============================] - 1s 44ms/step - loss: 0.1690 - accuracy: 0.9441 - val_loss: 0.1126 - val_accuracy: 0.9769\n",
      "Epoch 45/100\n",
      "22/22 [==============================] - 1s 48ms/step - loss: 0.1503 - accuracy: 0.9485 - val_loss: 0.0944 - val_accuracy: 0.9670\n",
      "Epoch 46/100\n",
      "22/22 [==============================] - 1s 46ms/step - loss: 0.1569 - accuracy: 0.9438 - val_loss: 0.1168 - val_accuracy: 0.9637\n",
      "Epoch 47/100\n",
      "22/22 [==============================] - 1s 45ms/step - loss: 0.1761 - accuracy: 0.9305 - val_loss: 0.1366 - val_accuracy: 0.9538\n",
      "Epoch 48/100\n",
      "22/22 [==============================] - 1s 45ms/step - loss: 0.1696 - accuracy: 0.9309 - val_loss: 0.1296 - val_accuracy: 0.9538\n",
      "Epoch 49/100\n",
      "22/22 [==============================] - 1s 46ms/step - loss: 0.1414 - accuracy: 0.9471 - val_loss: 0.1113 - val_accuracy: 0.9670\n",
      "Epoch 50/100\n",
      "22/22 [==============================] - 1s 45ms/step - loss: 0.1225 - accuracy: 0.9585 - val_loss: 0.1104 - val_accuracy: 0.9538\n",
      "Epoch 51/100\n",
      "22/22 [==============================] - 1s 46ms/step - loss: 0.1096 - accuracy: 0.9621 - val_loss: 0.1136 - val_accuracy: 0.9439\n",
      "Epoch 52/100\n",
      "22/22 [==============================] - 1s 45ms/step - loss: 0.1075 - accuracy: 0.9654 - val_loss: 0.0860 - val_accuracy: 0.9670\n",
      "Epoch 53/100\n",
      "22/22 [==============================] - 1s 48ms/step - loss: 0.0991 - accuracy: 0.9651 - val_loss: 0.1022 - val_accuracy: 0.9505\n",
      "Epoch 54/100\n",
      "22/22 [==============================] - 1s 52ms/step - loss: 0.1019 - accuracy: 0.9654 - val_loss: 0.0879 - val_accuracy: 0.9538\n",
      "Epoch 55/100\n",
      "22/22 [==============================] - 1s 52ms/step - loss: 0.0999 - accuracy: 0.9651 - val_loss: 0.0698 - val_accuracy: 0.9736\n",
      "Epoch 56/100\n",
      "22/22 [==============================] - 1s 50ms/step - loss: 0.0840 - accuracy: 0.9713 - val_loss: 0.0558 - val_accuracy: 0.9901\n",
      "Epoch 57/100\n",
      "22/22 [==============================] - 1s 49ms/step - loss: 0.0888 - accuracy: 0.9695 - val_loss: 0.0907 - val_accuracy: 0.9736\n",
      "Epoch 58/100\n",
      "22/22 [==============================] - 1s 45ms/step - loss: 0.1021 - accuracy: 0.9581 - val_loss: 0.1093 - val_accuracy: 0.9736\n",
      "Epoch 59/100\n",
      "22/22 [==============================] - 1s 45ms/step - loss: 0.1239 - accuracy: 0.9551 - val_loss: 0.0989 - val_accuracy: 0.9571\n",
      "Epoch 60/100\n",
      "22/22 [==============================] - 1s 44ms/step - loss: 0.1414 - accuracy: 0.9474 - val_loss: 0.1268 - val_accuracy: 0.9670\n",
      "Epoch 61/100\n",
      "22/22 [==============================] - 1s 43ms/step - loss: 0.1484 - accuracy: 0.9493 - val_loss: 0.0909 - val_accuracy: 0.9670\n",
      "Epoch 62/100\n",
      "22/22 [==============================] - 1s 43ms/step - loss: 0.1158 - accuracy: 0.9599 - val_loss: 0.0923 - val_accuracy: 0.9670\n",
      "Epoch 63/100\n",
      "22/22 [==============================] - 1s 43ms/step - loss: 0.1016 - accuracy: 0.9625 - val_loss: 0.0623 - val_accuracy: 0.9769\n",
      "Epoch 64/100\n",
      "22/22 [==============================] - 1s 43ms/step - loss: 0.0795 - accuracy: 0.9732 - val_loss: 0.0854 - val_accuracy: 0.9571\n",
      "Epoch 65/100\n",
      "22/22 [==============================] - 1s 42ms/step - loss: 0.0772 - accuracy: 0.9724 - val_loss: 0.0570 - val_accuracy: 0.9769\n",
      "Epoch 66/100\n",
      "22/22 [==============================] - 1s 42ms/step - loss: 0.0786 - accuracy: 0.9757 - val_loss: 0.0537 - val_accuracy: 0.9835\n",
      "Epoch 67/100\n",
      "22/22 [==============================] - 1s 41ms/step - loss: 0.0852 - accuracy: 0.9684 - val_loss: 0.0786 - val_accuracy: 0.9769\n",
      "Epoch 68/100\n",
      "22/22 [==============================] - 1s 43ms/step - loss: 0.0784 - accuracy: 0.9706 - val_loss: 0.0652 - val_accuracy: 0.9670\n",
      "Epoch 69/100\n",
      "22/22 [==============================] - 1s 44ms/step - loss: 0.0823 - accuracy: 0.9699 - val_loss: 0.0628 - val_accuracy: 0.9769\n",
      "Epoch 70/100\n",
      "22/22 [==============================] - 1s 44ms/step - loss: 0.0803 - accuracy: 0.9735 - val_loss: 0.0577 - val_accuracy: 0.9769\n",
      "Epoch 71/100\n",
      "22/22 [==============================] - 1s 43ms/step - loss: 0.0739 - accuracy: 0.9728 - val_loss: 0.0459 - val_accuracy: 0.9868\n",
      "Epoch 72/100\n",
      "22/22 [==============================] - 1s 45ms/step - loss: 0.0823 - accuracy: 0.9688 - val_loss: 0.0812 - val_accuracy: 0.9802\n",
      "Epoch 73/100\n",
      "22/22 [==============================] - 1s 41ms/step - loss: 0.0857 - accuracy: 0.9684 - val_loss: 0.0746 - val_accuracy: 0.9703\n",
      "Epoch 74/100\n",
      "22/22 [==============================] - 1s 42ms/step - loss: 0.0760 - accuracy: 0.9710 - val_loss: 0.0600 - val_accuracy: 0.9835\n",
      "Epoch 75/100\n",
      "22/22 [==============================] - 1s 44ms/step - loss: 0.0600 - accuracy: 0.9790 - val_loss: 0.0837 - val_accuracy: 0.9769\n",
      "Epoch 76/100\n",
      "22/22 [==============================] - 1s 43ms/step - loss: 0.0693 - accuracy: 0.9735 - val_loss: 0.0616 - val_accuracy: 0.9802\n",
      "Epoch 77/100\n",
      "22/22 [==============================] - 1s 44ms/step - loss: 0.0696 - accuracy: 0.9765 - val_loss: 0.0350 - val_accuracy: 0.9934\n",
      "Epoch 78/100\n",
      "22/22 [==============================] - 1s 42ms/step - loss: 0.0704 - accuracy: 0.9732 - val_loss: 0.0383 - val_accuracy: 0.9835\n",
      "Epoch 79/100\n",
      "22/22 [==============================] - 1s 43ms/step - loss: 0.0573 - accuracy: 0.9794 - val_loss: 0.0318 - val_accuracy: 0.9868\n",
      "Epoch 80/100\n",
      "22/22 [==============================] - 1s 42ms/step - loss: 0.0525 - accuracy: 0.9805 - val_loss: 0.0564 - val_accuracy: 0.9736\n",
      "Epoch 81/100\n",
      "22/22 [==============================] - 1s 45ms/step - loss: 0.0755 - accuracy: 0.9761 - val_loss: 0.0562 - val_accuracy: 0.9769\n",
      "Epoch 82/100\n",
      "22/22 [==============================] - 1s 44ms/step - loss: 0.1168 - accuracy: 0.9599 - val_loss: 0.0763 - val_accuracy: 0.9835\n",
      "Epoch 83/100\n",
      "22/22 [==============================] - 1s 44ms/step - loss: 0.0981 - accuracy: 0.9647 - val_loss: 0.0619 - val_accuracy: 0.9802\n",
      "Epoch 84/100\n",
      "22/22 [==============================] - 1s 44ms/step - loss: 0.0757 - accuracy: 0.9691 - val_loss: 0.0540 - val_accuracy: 0.9835\n",
      "Epoch 85/100\n",
      "22/22 [==============================] - 1s 44ms/step - loss: 0.0634 - accuracy: 0.9754 - val_loss: 0.0297 - val_accuracy: 0.9934\n",
      "Epoch 86/100\n",
      "22/22 [==============================] - 1s 45ms/step - loss: 0.0844 - accuracy: 0.9699 - val_loss: 0.0657 - val_accuracy: 0.9802\n",
      "Epoch 87/100\n",
      "22/22 [==============================] - 1s 44ms/step - loss: 0.0648 - accuracy: 0.9776 - val_loss: 0.0396 - val_accuracy: 0.9934\n",
      "Epoch 88/100\n",
      "22/22 [==============================] - 1s 43ms/step - loss: 0.0550 - accuracy: 0.9835 - val_loss: 0.0484 - val_accuracy: 0.9802\n",
      "Epoch 89/100\n",
      "22/22 [==============================] - 1s 43ms/step - loss: 0.0597 - accuracy: 0.9761 - val_loss: 0.0484 - val_accuracy: 0.9835\n",
      "Epoch 90/100\n",
      "22/22 [==============================] - 1s 44ms/step - loss: 0.0519 - accuracy: 0.9820 - val_loss: 0.0287 - val_accuracy: 0.9934\n",
      "Epoch 91/100\n",
      "22/22 [==============================] - 1s 43ms/step - loss: 0.0489 - accuracy: 0.9831 - val_loss: 0.0530 - val_accuracy: 0.9835\n",
      "Epoch 92/100\n",
      "22/22 [==============================] - 1s 44ms/step - loss: 0.0617 - accuracy: 0.9794 - val_loss: 0.0476 - val_accuracy: 0.9802\n",
      "Epoch 93/100\n",
      "22/22 [==============================] - 1s 43ms/step - loss: 0.0621 - accuracy: 0.9765 - val_loss: 0.0371 - val_accuracy: 0.9934\n",
      "Epoch 94/100\n",
      "22/22 [==============================] - 1s 43ms/step - loss: 0.0550 - accuracy: 0.9798 - val_loss: 0.0327 - val_accuracy: 0.9901\n",
      "Epoch 95/100\n",
      "22/22 [==============================] - 1s 43ms/step - loss: 0.0488 - accuracy: 0.9824 - val_loss: 0.0287 - val_accuracy: 0.9934\n",
      "Epoch 96/100\n",
      "22/22 [==============================] - 1s 45ms/step - loss: 0.0440 - accuracy: 0.9853 - val_loss: 0.0301 - val_accuracy: 0.9901\n",
      "Epoch 97/100\n",
      "22/22 [==============================] - 1s 44ms/step - loss: 0.0538 - accuracy: 0.9809 - val_loss: 0.0253 - val_accuracy: 0.9934\n",
      "Epoch 98/100\n",
      "22/22 [==============================] - 1s 43ms/step - loss: 0.0436 - accuracy: 0.9831 - val_loss: 0.0337 - val_accuracy: 0.9934\n",
      "Epoch 99/100\n",
      "22/22 [==============================] - 1s 43ms/step - loss: 0.0363 - accuracy: 0.9857 - val_loss: 0.0289 - val_accuracy: 0.9868\n",
      "Epoch 100/100\n",
      "22/22 [==============================] - 1s 48ms/step - loss: 0.0444 - accuracy: 0.9798 - val_loss: 0.0128 - val_accuracy: 0.9967\n"
     ]
    }
   ],
   "source": [
    "history = model.fit(train_ds_vec, epochs=100, validation_data=val_ds_vec)"
   ]
  },
  {
   "cell_type": "code",
   "execution_count": 51,
   "metadata": {},
   "outputs": [
    {
     "data": {
      "image/png": "[encoded data removed]",
      "text/plain": [
       "<Figure size 640x480 with 1 Axes>"
      ]
     },
     "metadata": {},
     "output_type": "display_data"
    },
    {
     "data": {
      "image/png": "[encoded data removed]",
      "text/plain": [
       "<Figure size 640x480 with 1 Axes>"
      ]
     },
     "metadata": {},
     "output_type": "display_data"
    }
   ],
   "source": [
    "def plot_graphs(history, metric):\n",
    "    plt.plot(history.history[metric])\n",
    "    plt.plot(history.history[f'val_{metric}'])\n",
    "    plt.xlabel(\"Epochs\")\n",
    "    plt.ylabel(metric)\n",
    "    plt.legend([metric, f'val_{metric}'])\n",
    "    plt.show()\n",
    "    \n",
    "plot_graphs(history, \"accuracy\")\n",
    "plot_graphs(history, \"loss\")"
   ]
  },
  {
   "cell_type": "markdown",
   "metadata": {},
   "source": [
    "# Test"
   ]
  },
  {
   "cell_type": "code",
   "execution_count": 58,
   "metadata": {},
   "outputs": [
    {
     "name": "stdout",
     "output_type": "stream",
     "text": [
      "Input: finish the assignment that's due tonight\n",
      "Lemmatized input: finish the assignment that's due tonight\n",
      "Vectorized input: b\"finish the assignment that ' s due tonight [PAD] [PAD] [PAD] [PAD] [PAD] [PAD] [PAD] [PAD] [PAD] [PAD] [PAD] [PAD] [PAD] [PAD] [PAD] [PAD] [PAD] [PAD] [PAD] [PAD] [PAD] [PAD] [PAD] [PAD] [PAD] [PAD] [PAD] [PAD] [PAD] [PAD] [PAD] [PAD] [PAD] [PAD] [PAD] [PAD] [PAD] [PAD] [PAD] [PAD] [PAD] [PAD] [PAD] [PAD] [PAD] [PAD] [PAD] [PAD] [PAD] [PAD] [PAD] [PAD] [PAD] [PAD] [PAD] [PAD] [PAD] [PAD] [PAD] [PAD] [PAD] [PAD] [PAD] [PAD]\"\n",
      "\t[365, 44, 121, 35, 220, 194, 3, 34, 302, 230, 0, 0, 0, 0, 0, 0, 0, 0, 0, 0, 0, 0, 0, 0, 0, 0, 0, 0, 0, 0, 0, 0, 0, 0, 0, 0, 0, 0, 0, 0, 0, 0, 0, 0, 0, 0, 0, 0, 0, 0, 0, 0, 0, 0, 0, 0, 0, 0, 0, 0, 0, 0, 0, 0, 0, 0, 0, 0, 0, 0, 0, 0, 0, 0]\n",
      "\n",
      "1/1 [==============================] - 0s 29ms/step\n",
      "Prediction vector: [3.1532707e-11 9.9999678e-01 7.9908517e-11 3.2099410e-06]\n",
      "\tnot-urgent important: 0.00000%\n",
      "\turgent important: 99.99968%\n",
      "\tnot-urgent not-important: 0.00000%\n",
      "\turgent not-important: 0.00032%\n",
      "Prediction: urgent important\n"
     ]
    }
   ],
   "source": [
    "task = \"finish the assignment that's due tonight\"\n",
    "print(f\"Input: {task}\")\n",
    "\n",
    "task = utils.lemmatize(task)\n",
    "print(f\"Lemmatized input: {task}\")\n",
    "\n",
    "task_vec = tokenizer(task)\n",
    "print(f\"Vectorized input: {tokenizer.detokenize(task_vec)}\")\n",
    "print(f\"\\t{[x for x in task_vec.numpy()]}\\n\")\n",
    "task_vec = np.reshape(task_vec, (1, len(task_vec)))\n",
    "\n",
    "prediction = model.predict(task_vec)[0]\n",
    "print(f\"Prediction vector: {prediction}\")\n",
    "\n",
    "label_vocab = label_lookup.get_vocabulary()\n",
    "for label, probability in zip(label_vocab, prediction):\n",
    "    percentage = probability * 100\n",
    "    print(f\"\\t{label}: {percentage:.5f}%\")\n",
    "\n",
    "best = label_vocab[np.argmax(prediction)]\n",
    "print(f\"Prediction: {best}\")"
   ]
  },
  {
   "cell_type": "markdown",
   "metadata": {},
   "source": [
    "# Save"
   ]
  },
  {
   "cell_type": "code",
   "execution_count": null,
   "metadata": {},
   "outputs": [
    {
     "ename": "NotImplementedError",
     "evalue": "Save or restore weights that is not an instance of `tf.Variable` is not supported in h5, use `save_format='tf'` instead. Received a model or layer StringLookup with weights [<keras.layers.preprocessing.index_lookup.VocabWeightHandler object at 0x0000023DEE3F6050>]",
     "output_type": "error",
     "traceback": [
      "\u001b[1;31m---------------------------------------------------------------------------\u001b[0m",
      "\u001b[1;31mNotImplementedError\u001b[0m                       Traceback (most recent call last)",
      "Cell \u001b[1;32mIn[57], line 9\u001b[0m\n\u001b[0;32m      7\u001b[0m packed_model\u001b[38;5;241m.\u001b[39mbuilt \u001b[38;5;241m=\u001b[39m \u001b[38;5;28;01mTrue\u001b[39;00m\n\u001b[0;32m      8\u001b[0m now \u001b[38;5;241m=\u001b[39m datetime\u001b[38;5;241m.\u001b[39mnow()\u001b[38;5;241m.\u001b[39mstrftime(\u001b[38;5;124mr\u001b[39m\u001b[38;5;124m\"\u001b[39m\u001b[38;5;124m%\u001b[39m\u001b[38;5;124mY-\u001b[39m\u001b[38;5;124m%\u001b[39m\u001b[38;5;124mm-\u001b[39m\u001b[38;5;132;01m%d\u001b[39;00m\u001b[38;5;124m_\u001b[39m\u001b[38;5;124m%\u001b[39m\u001b[38;5;124mH-\u001b[39m\u001b[38;5;124m%\u001b[39m\u001b[38;5;124mM-\u001b[39m\u001b[38;5;124m%\u001b[39m\u001b[38;5;124mS\u001b[39m\u001b[38;5;124m\"\u001b[39m)\n\u001b[1;32m----> 9\u001b[0m \u001b[43mpacked_model\u001b[49m\u001b[38;5;241;43m.\u001b[39;49m\u001b[43msave\u001b[49m\u001b[43m(\u001b[49m\u001b[38;5;124;43mf\u001b[39;49m\u001b[38;5;124;43m\"\u001b[39;49m\u001b[38;5;124;43m../model/\u001b[39;49m\u001b[38;5;132;43;01m{\u001b[39;49;00m\u001b[43mnow\u001b[49m\u001b[38;5;132;43;01m}\u001b[39;49;00m\u001b[38;5;124;43m.keras\u001b[39;49m\u001b[38;5;124;43m\"\u001b[39;49m\u001b[43m,\u001b[49m\u001b[43m \u001b[49m\u001b[43msave_format\u001b[49m\u001b[38;5;241;43m=\u001b[39;49m\u001b[38;5;124;43m\"\u001b[39;49m\u001b[38;5;124;43mtf\u001b[39;49m\u001b[38;5;124;43m\"\u001b[39;49m\u001b[43m)\u001b[49m\n",
      "File \u001b[1;32mc:\\Users\\LENOVO\\AppData\\Local\\Programs\\Python\\Python310\\lib\\site-packages\\keras\\utils\\traceback_utils.py:70\u001b[0m, in \u001b[0;36mfilter_traceback.<locals>.error_handler\u001b[1;34m(*args, **kwargs)\u001b[0m\n\u001b[0;32m     67\u001b[0m     filtered_tb \u001b[38;5;241m=\u001b[39m _process_traceback_frames(e\u001b[38;5;241m.\u001b[39m__traceback__)\n\u001b[0;32m     68\u001b[0m     \u001b[38;5;66;03m# To get the full stack trace, call:\u001b[39;00m\n\u001b[0;32m     69\u001b[0m     \u001b[38;5;66;03m# `tf.debugging.disable_traceback_filtering()`\u001b[39;00m\n\u001b[1;32m---> 70\u001b[0m     \u001b[38;5;28;01mraise\u001b[39;00m e\u001b[38;5;241m.\u001b[39mwith_traceback(filtered_tb) \u001b[38;5;28;01mfrom\u001b[39;00m \u001b[38;5;28;01mNone\u001b[39;00m\n\u001b[0;32m     71\u001b[0m \u001b[38;5;28;01mfinally\u001b[39;00m:\n\u001b[0;32m     72\u001b[0m     \u001b[38;5;28;01mdel\u001b[39;00m filtered_tb\n",
      "File \u001b[1;32mc:\\Users\\LENOVO\\AppData\\Local\\Programs\\Python\\Python310\\lib\\site-packages\\keras\\saving\\hdf5_format.py:1111\u001b[0m, in \u001b[0;36m_legacy_weights\u001b[1;34m(layer)\u001b[0m\n\u001b[0;32m   1109\u001b[0m weights \u001b[38;5;241m=\u001b[39m layer\u001b[38;5;241m.\u001b[39mtrainable_weights \u001b[38;5;241m+\u001b[39m layer\u001b[38;5;241m.\u001b[39mnon_trainable_weights\n\u001b[0;32m   1110\u001b[0m \u001b[38;5;28;01mif\u001b[39;00m \u001b[38;5;28many\u001b[39m(\u001b[38;5;129;01mnot\u001b[39;00m \u001b[38;5;28misinstance\u001b[39m(w, tf\u001b[38;5;241m.\u001b[39mVariable) \u001b[38;5;28;01mfor\u001b[39;00m w \u001b[38;5;129;01min\u001b[39;00m weights):\n\u001b[1;32m-> 1111\u001b[0m     \u001b[38;5;28;01mraise\u001b[39;00m \u001b[38;5;167;01mNotImplementedError\u001b[39;00m(\n\u001b[0;32m   1112\u001b[0m         \u001b[38;5;124mf\u001b[39m\u001b[38;5;124m\"\u001b[39m\u001b[38;5;124mSave or restore weights that is not an instance of `tf.Variable` \u001b[39m\u001b[38;5;124m\"\u001b[39m\n\u001b[0;32m   1113\u001b[0m         \u001b[38;5;124mf\u001b[39m\u001b[38;5;124m\"\u001b[39m\u001b[38;5;124mis not supported in h5, use `save_format=\u001b[39m\u001b[38;5;124m'\u001b[39m\u001b[38;5;124mtf\u001b[39m\u001b[38;5;124m'\u001b[39m\u001b[38;5;124m` instead. Received \u001b[39m\u001b[38;5;124m\"\u001b[39m\n\u001b[0;32m   1114\u001b[0m         \u001b[38;5;124mf\u001b[39m\u001b[38;5;124m\"\u001b[39m\u001b[38;5;124ma model or layer \u001b[39m\u001b[38;5;132;01m{\u001b[39;00mlayer\u001b[38;5;241m.\u001b[39m\u001b[38;5;18m__class__\u001b[39m\u001b[38;5;241m.\u001b[39m\u001b[38;5;18m__name__\u001b[39m\u001b[38;5;132;01m}\u001b[39;00m\u001b[38;5;124m \u001b[39m\u001b[38;5;124m\"\u001b[39m\n\u001b[0;32m   1115\u001b[0m         \u001b[38;5;124mf\u001b[39m\u001b[38;5;124m\"\u001b[39m\u001b[38;5;124mwith weights \u001b[39m\u001b[38;5;132;01m{\u001b[39;00mweights\u001b[38;5;132;01m}\u001b[39;00m\u001b[38;5;124m\"\u001b[39m\n\u001b[0;32m   1116\u001b[0m     )\n\u001b[0;32m   1117\u001b[0m \u001b[38;5;28;01mreturn\u001b[39;00m weights\n",
      "\u001b[1;31mNotImplementedError\u001b[0m: Save or restore weights that is not an instance of `tf.Variable` is not supported in h5, use `save_format='tf'` instead. Received a model or layer StringLookup with weights [<keras.layers.preprocessing.index_lookup.VocabWeightHandler object at 0x0000023DEE3F6050>]"
     ]
    }
   ],
   "source": [
    "packed_model = keras.Sequential([\n",
    "    tokenizer,\n",
    "    label_lookup,\n",
    "    model,\n",
    "])\n",
    "\n",
    "packed_model.built = True\n",
    "now = datetime.now().strftime(r\"%Y-%m-%d_%H-%M-%S\")\n",
    "packed_model.save(f\"../model/{now}.keras\")"
   ]
  }
 ],
 "metadata": {
  "kernelspec": {
   "display_name": "Python 3",
   "language": "python",
   "name": "python3"
  },
  "language_info": {
   "codemirror_mode": {
    "name": "ipython",
    "version": 3
   },
   "file_extension": ".py",
   "mimetype": "text/x-python",
   "name": "python",
   "nbconvert_exporter": "python",
   "pygments_lexer": "ipython3",
   "version": "3.10.11"
  }
 },
 "nbformat": 4,
 "nbformat_minor": 2
}
